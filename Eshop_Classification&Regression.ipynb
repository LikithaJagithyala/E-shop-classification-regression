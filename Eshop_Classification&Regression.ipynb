{
 "cells": [
  {
   "cell_type": "markdown",
   "id": "0f2789a5",
   "metadata": {},
   "source": [
    "## Contents\n",
    "\n",
    "- Importing the required Libraries\n",
    "- Understanding the Data\n",
    "- Preprocessing Data for Classification\n",
    "- Classification Models\n",
    "    - Logistic Regression Classification\n",
    "    - Decision Tree Classification\n",
    "    - Gradient Boost Classification\n",
    "    - Random Forest Classification\n",
    "    - SVM\n",
    "    - KNN\n",
    "    - Neural Netowrk\n",
    "- Preprocessing Data for Regression\n",
    "- Regression Models\n",
    "    - Lasso Regression\n",
    "    - Decision Tree Regression\n",
    "    - Gradient Boost Regression\n",
    "    - Random Forest Regression"
   ]
  },
  {
   "cell_type": "code",
   "execution_count": 1,
   "id": "fab00697",
   "metadata": {},
   "outputs": [],
   "source": [
    "import pandas as pd\n",
    "import numpy as np\n",
    "import time\n",
    "\n",
    "import matplotlib.pyplot as plt\n",
    "import scikitplot as skplt\n",
    "\n",
    "\n",
    "from sklearn.model_selection import train_test_split\n",
    "from sklearn.preprocessing import StandardScaler, LabelEncoder\n",
    "\n",
    "#Custom logistic regression classifer\n",
    "from models.LRC import LogisticRegressionClassifier\n",
    "#Custom decision tree classifier\n",
    "from models.decisiontrees import decisiontreeclassifier, decisiontreeregressor\n",
    "#Custom random forest classifier\n",
    "from models.random_forest import RandomForestClassifier, RandomForestRegressor\n",
    "#Custom gradient boosting classifier\n",
    "from models.gradientboosting import GradientBoostTreeClassifier, GradientBoostTreeRegressor\n",
    "#Custom SVM\n",
    "from models.SVM import SVM\n",
    "#Custom KNN\n",
    "from models.KNN.KNNClassifier import KNNClassifier\n",
    "#Custom NN\n",
    "from models.NN import NeuralNetwork\n",
    "#Custom lasso regressor\n",
    "from models.regression import LassoRegression\n",
    "\n",
    "\n",
    "\n",
    "import warnings\n",
    "warnings.filterwarnings(\"ignore\")"
   ]
  },
  {
   "cell_type": "code",
   "execution_count": 2,
   "id": "1d139892",
   "metadata": {},
   "outputs": [],
   "source": [
    "data = pd.read_csv(\"e-shop clothing 2008.csv\",delimiter = ';')"
   ]
  },
  {
   "cell_type": "code",
   "execution_count": 3,
   "id": "a6a8966e",
   "metadata": {},
   "outputs": [
    {
     "name": "stdout",
     "output_type": "stream",
     "text": [
      "<class 'pandas.core.frame.DataFrame'>\n",
      "RangeIndex: 165474 entries, 0 to 165473\n",
      "Data columns (total 14 columns):\n",
      " #   Column                   Non-Null Count   Dtype \n",
      "---  ------                   --------------   ----- \n",
      " 0   year                     165474 non-null  int64 \n",
      " 1   month                    165474 non-null  int64 \n",
      " 2   day                      165474 non-null  int64 \n",
      " 3   order                    165474 non-null  int64 \n",
      " 4   country                  165474 non-null  int64 \n",
      " 5   session ID               165474 non-null  int64 \n",
      " 6   page 1 (main category)   165474 non-null  int64 \n",
      " 7   page 2 (clothing model)  165474 non-null  object\n",
      " 8   colour                   165474 non-null  int64 \n",
      " 9   location                 165474 non-null  int64 \n",
      " 10  model photography        165474 non-null  int64 \n",
      " 11  price                    165474 non-null  int64 \n",
      " 12  price 2                  165474 non-null  int64 \n",
      " 13  page                     165474 non-null  int64 \n",
      "dtypes: int64(13), object(1)\n",
      "memory usage: 17.7+ MB\n"
     ]
    }
   ],
   "source": [
    "data.info()"
   ]
  },
  {
   "cell_type": "code",
   "execution_count": 4,
   "id": "e34bcf1b",
   "metadata": {},
   "outputs": [
    {
     "data": {
      "text/plain": [
       "1    84695\n",
       "2    80779\n",
       "Name: price 2, dtype: int64"
      ]
     },
     "execution_count": 4,
     "metadata": {},
     "output_type": "execute_result"
    }
   ],
   "source": [
    "data['price 2'].value_counts()"
   ]
  },
  {
   "cell_type": "code",
   "execution_count": 5,
   "id": "cb9be739",
   "metadata": {},
   "outputs": [
    {
     "data": {
      "text/plain": [
       "1    84695\n",
       "0    80779\n",
       "Name: price 2, dtype: int64"
      ]
     },
     "execution_count": 5,
     "metadata": {},
     "output_type": "execute_result"
    }
   ],
   "source": [
    "data['price 2'].replace([2], [0], inplace=True)\n",
    "data['price 2'].value_counts()"
   ]
  },
  {
   "cell_type": "markdown",
   "id": "061d03d9",
   "metadata": {},
   "source": [
    "**Custom functions for calculating metrics**"
   ]
  },
  {
   "cell_type": "code",
   "execution_count": 6,
   "id": "1044de22",
   "metadata": {},
   "outputs": [],
   "source": [
    "#custom function to calculate accuracy score for classiciation model and R2 & RMSE for regression model.\n",
    "def accuracy(actual,predicted,normalize=True):\n",
    "    accuracy=[]\n",
    "    for i in range(len(predicted)):\n",
    "        if predicted[i]==actual[i]:\n",
    "            accuracy.append(1)\n",
    "        else:\n",
    "            accuracy.append(0)\n",
    "    if normalize==True:\n",
    "        return np.mean(accuracy)\n",
    "    if normalize==False:\n",
    "        return sum(accuracy)\n",
    "    \n",
    "def r2score(actual, predicted):\n",
    "    y_average = np.average(actual)\n",
    "    rss = 0\n",
    "    tss = 0\n",
    "    for i in range(len(actual)):\n",
    "        rss += (actual[i] - predicted[i])**2\n",
    "        tss += (actual[i] - y_average)**2\n",
    "        r2 = 1 - (rss/tss)\n",
    "    return r2    \n",
    "    \n",
    "def mean_square(actual, predicted):\n",
    "    diff=np.subtract(actual,predicted)\n",
    "    square=np.square(diff)\n",
    "    MSE=square.mean()\n",
    "    RMSE=np.sqrt(MSE)\n",
    "    return RMSE"
   ]
  },
  {
   "cell_type": "markdown",
   "id": "ecc5b63b",
   "metadata": {},
   "source": [
    "## Classification of Price 2\n",
    "**Preprocessing for Classification model**"
   ]
  },
  {
   "cell_type": "code",
   "execution_count": 7,
   "id": "f988af81",
   "metadata": {},
   "outputs": [],
   "source": [
    "#Defining dependent and independent variables\n",
    "X = data.drop('price 2', axis=1)\n",
    "\n",
    "Y = data[\"price 2\"]\n",
    "#storing column names of X in names\n",
    "names = np.array(X.columns)\n",
    "\n",
    "#Encoding the columns\n",
    "def label_transform(x):\n",
    "    le = LabelEncoder()\n",
    "    Encoded_le = le.fit_transform(x)\n",
    "    return Encoded_le\n",
    "\n",
    "for x in names:\n",
    "    X[x] = label_transform(X[x])\n",
    "    \n",
    "#Scaling data\n",
    "SCX = StandardScaler().fit_transform(X)\n",
    "\n",
    "#Splitting data into train and test sets\n",
    "X_train, X_test, Y_train, Y_test = train_test_split(X, Y, test_size=0.2, random_state=41)\n",
    "\n",
    "#Splitting scaled data into train and test sets\n",
    "SCX_train, SCX_test, SCY_train, SCY_test = train_test_split(SCX, Y, test_size=0.2, random_state=41)"
   ]
  },
  {
   "cell_type": "markdown",
   "id": "16b00fa6",
   "metadata": {},
   "source": [
    "**Logistice Regression Classifier**"
   ]
  },
  {
   "cell_type": "code",
   "execution_count": 8,
   "id": "6782ad6c",
   "metadata": {},
   "outputs": [
    {
     "name": "stdout",
     "output_type": "stream",
     "text": [
      "Runtime in seconds: 3.58\n"
     ]
    }
   ],
   "source": [
    "#Logistic Regression Classifier\n",
    "start = time.time()\n",
    "LRC = LogisticRegressionClassifier()\n",
    "LRC.fit(X_train.values, Y_train.values) \n",
    "end = time.time()\n",
    "total_time = end - start\n",
    "print(\"Runtime in seconds:\", round(total_time,2))"
   ]
  },
  {
   "cell_type": "code",
   "execution_count": 9,
   "id": "84449f6f",
   "metadata": {},
   "outputs": [
    {
     "name": "stdout",
     "output_type": "stream",
     "text": [
      "Logistic Regression Classifier Accuracy on Train data: 51.07 %\n"
     ]
    },
    {
     "data": {
      "image/png": "[encoded data removed]",
      "text/plain": [
       "<Figure size 432x288 with 2 Axes>"
      ]
     },
     "metadata": {
      "needs_background": "light"
     },
     "output_type": "display_data"
    }
   ],
   "source": [
    "#Predicting results on Train Data\n",
    "LRC_Y_train_pred = LRC.predict(X_train.values)\n",
    "LRC_train_acc = accuracy(Y_train.values,LRC_Y_train_pred)\n",
    "print('Logistic Regression Classifier Accuracy on Train data:',round(LRC_train_acc*100,2),'%')\n",
    "#Confusion matrix\n",
    "skplt.metrics.plot_confusion_matrix(Y_train, LRC_Y_train_pred, title=\"LRC in train data\",\n",
    "                text_fontsize='large')\n",
    "plt.show()"
   ]
  },
  {
   "cell_type": "code",
   "execution_count": 10,
   "id": "1eda82a4",
   "metadata": {},
   "outputs": [
    {
     "name": "stdout",
     "output_type": "stream",
     "text": [
      "Logistic Regression Classifier Accuracy on Test data: 51.64 %\n"
     ]
    },
    {
     "data": {
      "image/png": "[encoded data removed]",
      "text/plain": [
       "<Figure size 432x288 with 2 Axes>"
      ]
     },
     "metadata": {
      "needs_background": "light"
     },
     "output_type": "display_data"
    }
   ],
   "source": [
    "#Predicting results on Test Data\n",
    "LRC_Y_test_pred = LRC.predict(X_test.values)\n",
    "LRC_test_acc = accuracy(Y_test.values,LRC_Y_test_pred)\n",
    "print('Logistic Regression Classifier Accuracy on Test data:',round(LRC_test_acc*100,2),'%')\n",
    "#Confusion matrix\n",
    "skplt.metrics.plot_confusion_matrix(Y_test, LRC_Y_test_pred, title=\"LRC in test data\",\n",
    "                text_fontsize='large')\n",
    "plt.show()"
   ]
  },
  {
   "cell_type": "code",
   "execution_count": 11,
   "id": "5c37b796",
   "metadata": {},
   "outputs": [
    {
     "data": {
      "text/html": [
       "<div>\n",
       "<style scoped>\n",
       "    .dataframe tbody tr th:only-of-type {\n",
       "        vertical-align: middle;\n",
       "    }\n",
       "\n",
       "    .dataframe tbody tr th {\n",
       "        vertical-align: top;\n",
       "    }\n",
       "\n",
       "    .dataframe thead th {\n",
       "        text-align: right;\n",
       "    }\n",
       "</style>\n",
       "<table border=\"1\" class=\"dataframe\">\n",
       "  <thead>\n",
       "    <tr style=\"text-align: right;\">\n",
       "      <th></th>\n",
       "      <th>feature</th>\n",
       "      <th>importance</th>\n",
       "    </tr>\n",
       "  </thead>\n",
       "  <tbody>\n",
       "    <tr>\n",
       "      <th>7</th>\n",
       "      <td>page 2 (clothing model)</td>\n",
       "      <td>2.587970</td>\n",
       "    </tr>\n",
       "    <tr>\n",
       "      <th>5</th>\n",
       "      <td>session ID</td>\n",
       "      <td>2.502849</td>\n",
       "    </tr>\n",
       "    <tr>\n",
       "      <th>11</th>\n",
       "      <td>price</td>\n",
       "      <td>1.276730</td>\n",
       "    </tr>\n",
       "    <tr>\n",
       "      <th>8</th>\n",
       "      <td>colour</td>\n",
       "      <td>0.138294</td>\n",
       "    </tr>\n",
       "    <tr>\n",
       "      <th>6</th>\n",
       "      <td>page 1 (main category)</td>\n",
       "      <td>0.066499</td>\n",
       "    </tr>\n",
       "    <tr>\n",
       "      <th>1</th>\n",
       "      <td>month</td>\n",
       "      <td>0.004877</td>\n",
       "    </tr>\n",
       "    <tr>\n",
       "      <th>0</th>\n",
       "      <td>year</td>\n",
       "      <td>0.000000</td>\n",
       "    </tr>\n",
       "    <tr>\n",
       "      <th>10</th>\n",
       "      <td>model photography</td>\n",
       "      <td>-0.017947</td>\n",
       "    </tr>\n",
       "    <tr>\n",
       "      <th>12</th>\n",
       "      <td>page</td>\n",
       "      <td>-0.020902</td>\n",
       "    </tr>\n",
       "    <tr>\n",
       "      <th>3</th>\n",
       "      <td>order</td>\n",
       "      <td>-0.070037</td>\n",
       "    </tr>\n",
       "    <tr>\n",
       "      <th>9</th>\n",
       "      <td>location</td>\n",
       "      <td>-0.076205</td>\n",
       "    </tr>\n",
       "    <tr>\n",
       "      <th>2</th>\n",
       "      <td>day</td>\n",
       "      <td>-0.077894</td>\n",
       "    </tr>\n",
       "    <tr>\n",
       "      <th>4</th>\n",
       "      <td>country</td>\n",
       "      <td>-0.095273</td>\n",
       "    </tr>\n",
       "  </tbody>\n",
       "</table>\n",
       "</div>"
      ],
      "text/plain": [
       "                    feature  importance\n",
       "7   page 2 (clothing model)    2.587970\n",
       "5                session ID    2.502849\n",
       "11                    price    1.276730\n",
       "8                    colour    0.138294\n",
       "6    page 1 (main category)    0.066499\n",
       "1                     month    0.004877\n",
       "0                      year    0.000000\n",
       "10        model photography   -0.017947\n",
       "12                     page   -0.020902\n",
       "3                     order   -0.070037\n",
       "9                  location   -0.076205\n",
       "2                       day   -0.077894\n",
       "4                   country   -0.095273"
      ]
     },
     "execution_count": 11,
     "metadata": {},
     "output_type": "execute_result"
    }
   ],
   "source": [
    "#identifying important features of LRC\n",
    "LRCImportantfeatures = pd.DataFrame(data={'feature': X_train.columns})\n",
    "LRCImportantfeatures[\"importance\"] = pd.DataFrame(LRC.w)\n",
    "LRCImportantfeatures = LRCImportantfeatures.sort_values(by='importance', ascending=False)\n",
    "LRCImportantfeatures"
   ]
  },
  {
   "cell_type": "markdown",
   "id": "dc682b9f",
   "metadata": {},
   "source": [
    "**Decision Tree Classifier**"
   ]
  },
  {
   "cell_type": "code",
   "execution_count": 12,
   "id": "ecccdb80",
   "metadata": {},
   "outputs": [
    {
     "name": "stdout",
     "output_type": "stream",
     "text": [
      "Runtime in seconds: 38547.88\n"
     ]
    }
   ],
   "source": [
    "#Decision Tree classifier\n",
    "start = time.time()\n",
    "DTC = decisiontreeclassifier()\n",
    "DTC.fit(X_train,Y_train.values.reshape(-1,1))\n",
    "end = time.time()\n",
    "total_time = end - start\n",
    "print(\"Runtime in seconds:\", round(total_time,2))"
   ]
  },
  {
   "cell_type": "code",
   "execution_count": 14,
   "id": "3fe79e51",
   "metadata": {},
   "outputs": [
    {
     "name": "stdout",
     "output_type": "stream",
     "text": [
      "\u001b[1;3m Structure of decision tree \u001b[0m\n",
      "|- price <= 7 :Information Gain 0.2825\n",
      " left:|- page 1 (main category) <= 2 :Information Gain 0.0884\n",
      "  left:|- price <= 6 :Information Gain 0.0179\n",
      "    left:0\n",
      "    right:|- page 1 (main category) <= 1 :Information Gain 0.3455\n",
      "        left:0\n",
      "        right:1\n",
      "  right:|- price <= 5 :Information Gain 0.4999\n",
      "    left:0\n",
      "    right:1\n",
      " right:|- colour <= 0 :Information Gain 0.009\n",
      "  left:|- page 1 (main category) <= 0 :Information Gain 0.4703\n",
      "    left:1\n",
      "    right:0\n",
      "  right:|- location <= 4 :Information Gain 0.0014\n",
      "    left:1\n",
      "    right:|- colour <= 1 :Information Gain 0.0338\n",
      "        left:1\n",
      "        right:1\n"
     ]
    }
   ],
   "source": [
    "print('\\033[1;3m',\"Structure of decision tree\",'\\033[0m')\n",
    "DTC.print_tree()"
   ]
  },
  {
   "cell_type": "code",
   "execution_count": 15,
   "id": "f61edeca",
   "metadata": {},
   "outputs": [
    {
     "name": "stdout",
     "output_type": "stream",
     "text": [
      "Decision Tree Classifier Accuracy on Train data: 99.61 %\n"
     ]
    },
    {
     "data": {
      "image/png": "[encoded data removed]",
      "text/plain": [
       "<Figure size 432x288 with 2 Axes>"
      ]
     },
     "metadata": {
      "needs_background": "light"
     },
     "output_type": "display_data"
    }
   ],
   "source": [
    "#Predicting results on Train Data\n",
    "DTC_Y_train_pred = DTC.predict(X_train.values)\n",
    "DTC_train_acc = accuracy(Y_train.values,DTC_Y_train_pred)\n",
    "print('Decision Tree Classifier Accuracy on Train data:',round(DTC_train_acc*100,2),'%')\n",
    "#Confusion matrix\n",
    "skplt.metrics.plot_confusion_matrix(Y_train, DTC_Y_train_pred, title=\"DTC in train data\",\n",
    "                text_fontsize='large')\n",
    "plt.show()"
   ]
  },
  {
   "cell_type": "code",
   "execution_count": 16,
   "id": "5b52bde0",
   "metadata": {},
   "outputs": [
    {
     "name": "stdout",
     "output_type": "stream",
     "text": [
      "Decision Tree Classifier Accuracy on Test data: 99.64 %\n"
     ]
    },
    {
     "data": {
      "image/png": "[encoded data removed]",
      "text/plain": [
       "<Figure size 432x288 with 2 Axes>"
      ]
     },
     "metadata": {
      "needs_background": "light"
     },
     "output_type": "display_data"
    }
   ],
   "source": [
    "#Predicting results on Test Data\n",
    "DTC_Y_test_pred = DTC.predict(X_test.values)\n",
    "DTC_test_acc = accuracy(Y_test.values,DTC_Y_test_pred)\n",
    "print('Decision Tree Classifier Accuracy on Test data:',round(DTC_test_acc*100,2),'%')\n",
    "#Confusion matrix\n",
    "skplt.metrics.plot_confusion_matrix(Y_test, DTC_Y_test_pred, title=\"DTC in Test data\",\n",
    "                text_fontsize='large')\n",
    "plt.show()"
   ]
  },
  {
   "cell_type": "code",
   "execution_count": 17,
   "id": "596da79f",
   "metadata": {},
   "outputs": [
    {
     "data": {
      "text/html": [
       "<div>\n",
       "<style scoped>\n",
       "    .dataframe tbody tr th:only-of-type {\n",
       "        vertical-align: middle;\n",
       "    }\n",
       "\n",
       "    .dataframe tbody tr th {\n",
       "        vertical-align: top;\n",
       "    }\n",
       "\n",
       "    .dataframe thead th {\n",
       "        text-align: right;\n",
       "    }\n",
       "</style>\n",
       "<table border=\"1\" class=\"dataframe\">\n",
       "  <thead>\n",
       "    <tr style=\"text-align: right;\">\n",
       "      <th></th>\n",
       "      <th>featurename</th>\n",
       "      <th>treelevel</th>\n",
       "    </tr>\n",
       "  </thead>\n",
       "  <tbody>\n",
       "    <tr>\n",
       "      <th>8</th>\n",
       "      <td>price</td>\n",
       "      <td>0</td>\n",
       "    </tr>\n",
       "    <tr>\n",
       "      <th>3</th>\n",
       "      <td>page 1 (main category)</td>\n",
       "      <td>1</td>\n",
       "    </tr>\n",
       "    <tr>\n",
       "      <th>7</th>\n",
       "      <td>colour</td>\n",
       "      <td>1</td>\n",
       "    </tr>\n",
       "    <tr>\n",
       "      <th>1</th>\n",
       "      <td>price</td>\n",
       "      <td>2</td>\n",
       "    </tr>\n",
       "    <tr>\n",
       "      <th>4</th>\n",
       "      <td>page 1 (main category)</td>\n",
       "      <td>2</td>\n",
       "    </tr>\n",
       "    <tr>\n",
       "      <th>6</th>\n",
       "      <td>location</td>\n",
       "      <td>2</td>\n",
       "    </tr>\n",
       "    <tr>\n",
       "      <th>0</th>\n",
       "      <td>page 1 (main category)</td>\n",
       "      <td>3</td>\n",
       "    </tr>\n",
       "    <tr>\n",
       "      <th>5</th>\n",
       "      <td>colour</td>\n",
       "      <td>3</td>\n",
       "    </tr>\n",
       "  </tbody>\n",
       "</table>\n",
       "</div>"
      ],
      "text/plain": [
       "              featurename  treelevel\n",
       "8                   price          0\n",
       "3  page 1 (main category)          1\n",
       "7                  colour          1\n",
       "1                   price          2\n",
       "4  page 1 (main category)          2\n",
       "6                location          2\n",
       "0  page 1 (main category)          3\n",
       "5                  colour          3"
      ]
     },
     "execution_count": 17,
     "metadata": {},
     "output_type": "execute_result"
    }
   ],
   "source": [
    "#important features of decision tree\n",
    "dtFeatures = pd.DataFrame(DTC.get_features())\n",
    "dtFeatures.columns = ['featurename','treelevel']\n",
    "dtFeatures = dtFeatures.drop_duplicates()\n",
    "dtFeatures=dtFeatures.sort_values('treelevel')\n",
    "dtFeatures"
   ]
  },
  {
   "cell_type": "markdown",
   "id": "2c9faebf",
   "metadata": {},
   "source": [
    "**Random Forest Classifier**"
   ]
  },
  {
   "cell_type": "code",
   "execution_count": 18,
   "id": "a3b06c38",
   "metadata": {},
   "outputs": [
    {
     "name": "stdout",
     "output_type": "stream",
     "text": [
      "Runtime in seconds: 34566.85\n"
     ]
    }
   ],
   "source": [
    "start = time.time()\n",
    "#create a random forest with default values\n",
    "RFC = RandomForestClassifier()\n",
    "## train the ensemble\n",
    "RFC.fit(X_train.values,Y_train.values)\n",
    "end = time.time()\n",
    "total_time = end - start\n",
    "print(\"Runtime in seconds:\", round(total_time,2))"
   ]
  },
  {
   "cell_type": "code",
   "execution_count": 19,
   "id": "844ec5c6",
   "metadata": {},
   "outputs": [
    {
     "name": "stdout",
     "output_type": "stream",
     "text": [
      "Random Forest Classifier Accuracy on Train data: 100.0 %\n"
     ]
    },
    {
     "data": {
      "image/png": "[encoded data removed]",
      "text/plain": [
       "<Figure size 432x288 with 2 Axes>"
      ]
     },
     "metadata": {
      "needs_background": "light"
     },
     "output_type": "display_data"
    }
   ],
   "source": [
    "#Predicting results on Train Data\n",
    "RFC_Y_train_pred = RFC.predict(X_train.values)\n",
    "RFC_train_acc = accuracy(Y_train.values,RFC_Y_train_pred)\n",
    "print('Random Forest Classifier Accuracy on Train data:',round(RFC_train_acc*100,2),'%')\n",
    "#Confusion matrix\n",
    "skplt.metrics.plot_confusion_matrix(Y_train, RFC_Y_train_pred, title=\"RFC in train data\",\n",
    "                text_fontsize='large')\n",
    "plt.show()"
   ]
  },
  {
   "cell_type": "code",
   "execution_count": 20,
   "id": "dd341340",
   "metadata": {},
   "outputs": [
    {
     "name": "stdout",
     "output_type": "stream",
     "text": [
      "Random Forest Classifier Accuracy on Test data: 100.0 %\n"
     ]
    },
    {
     "data": {
      "image/png": "[encoded data removed]",
      "text/plain": [
       "<Figure size 432x288 with 2 Axes>"
      ]
     },
     "metadata": {
      "needs_background": "light"
     },
     "output_type": "display_data"
    }
   ],
   "source": [
    "#Predicting results on Test Data\n",
    "RFC_Y_test_pred = RFC.predict(X_test.values)\n",
    "RFC_test_acc = accuracy(Y_test.values,RFC_Y_test_pred)\n",
    "print('Random Forest Classifier Accuracy on Test data:',round(RFC_test_acc*100,2),'%')\n",
    "#Confusion matrix\n",
    "skplt.metrics.plot_confusion_matrix(Y_test, RFC_Y_test_pred, title=\"RFC in test data\",\n",
    "                text_fontsize='large')\n",
    "plt.show()"
   ]
  },
  {
   "cell_type": "markdown",
   "id": "491842a6",
   "metadata": {},
   "source": [
    "**Gradient Boost**"
   ]
  },
  {
   "cell_type": "code",
   "execution_count": 21,
   "id": "d1764bdd",
   "metadata": {},
   "outputs": [
    {
     "name": "stdout",
     "output_type": "stream",
     "text": [
      "Runtime in seconds: 68807.02\n"
     ]
    }
   ],
   "source": [
    "start = time.time()\n",
    "GBC = GradientBoostTreeClassifier() \n",
    "#fit the model\n",
    "GBC.fit(X_train.values,Y_train.values)\n",
    "end = time.time()\n",
    "total_time = end - start\n",
    "print(\"Runtime in seconds:\", round(total_time,2))"
   ]
  },
  {
   "cell_type": "code",
   "execution_count": 22,
   "id": "ffeeef36",
   "metadata": {},
   "outputs": [
    {
     "name": "stdout",
     "output_type": "stream",
     "text": [
      "GradientBoost Classifier Accuracy on Train data: 51.07 %\n"
     ]
    },
    {
     "data": {
      "image/png": "[encoded data removed]",
      "text/plain": [
       "<Figure size 432x288 with 2 Axes>"
      ]
     },
     "metadata": {
      "needs_background": "light"
     },
     "output_type": "display_data"
    }
   ],
   "source": [
    "#Predicting results on Train Data\n",
    "GBC_Y_train_pred = GBC.predict(X_train.values)\n",
    "GBC_train_acc = accuracy(Y_train.values,GBC_Y_train_pred)\n",
    "print('GradientBoost Classifier Accuracy on Train data:',round(GBC_train_acc*100,2),'%')\n",
    "#Confusion matrix\n",
    "skplt.metrics.plot_confusion_matrix(Y_train, GBC_Y_train_pred, title=\"GBC in train data\",\n",
    "                text_fontsize='large')\n",
    "plt.show()"
   ]
  },
  {
   "cell_type": "code",
   "execution_count": 23,
   "id": "26f04187",
   "metadata": {},
   "outputs": [
    {
     "name": "stdout",
     "output_type": "stream",
     "text": [
      "GradientBoost Classifier Accuracy on Test data: 51.64 %\n"
     ]
    },
    {
     "data": {
      "image/png": "[encoded data removed]",
      "text/plain": [
       "<Figure size 432x288 with 2 Axes>"
      ]
     },
     "metadata": {
      "needs_background": "light"
     },
     "output_type": "display_data"
    }
   ],
   "source": [
    "#Predicting results on Test Data\n",
    "GBC_Y_test_pred = GBC.predict(X_test.values)\n",
    "GBC_test_acc = accuracy(Y_test.values,GBC_Y_test_pred)\n",
    "print('GradientBoost Classifier Accuracy on Test data:',round(GBC_test_acc*100,2),'%')\n",
    "#Confusion matrix\n",
    "skplt.metrics.plot_confusion_matrix(Y_test, GBC_Y_test_pred, title=\"GBC in test data\",\n",
    "                text_fontsize='large')\n",
    "plt.show()"
   ]
  },
  {
   "cell_type": "markdown",
   "id": "3f227580",
   "metadata": {},
   "source": [
    "**Support Vector Machine**"
   ]
  },
  {
   "cell_type": "code",
   "execution_count": 24,
   "id": "3b7c0b85",
   "metadata": {},
   "outputs": [
    {
     "name": "stdout",
     "output_type": "stream",
     "text": [
      "Runtime in seconds: 6359.24\n"
     ]
    }
   ],
   "source": [
    "#Fitting svm model to the data\n",
    "start = time.time()\n",
    "SVM = SVM()\n",
    "SVM.fit(X_train.values, Y_train.values)\n",
    "end = time.time()\n",
    "total_time = end - start\n",
    "print(\"Runtime in seconds:\", round(total_time,2))"
   ]
  },
  {
   "cell_type": "code",
   "execution_count": 25,
   "id": "617fb8e0",
   "metadata": {},
   "outputs": [
    {
     "name": "stdout",
     "output_type": "stream",
     "text": [
      "SVM Classifier Accuracy on Train data: 51.12 %\n"
     ]
    },
    {
     "data": {
      "image/png": "[encoded data removed]",
      "text/plain": [
       "<Figure size 432x288 with 2 Axes>"
      ]
     },
     "metadata": {
      "needs_background": "light"
     },
     "output_type": "display_data"
    }
   ],
   "source": [
    "#Predicting results on Train Data\n",
    "SVM_Y_train_pred = SVM.predict(X_train.values)\n",
    "SVM_train_acc = accuracy(Y_train.values,SVM_Y_train_pred)\n",
    "print('SVM Classifier Accuracy on Train data:',round(SVM_train_acc*100,2),'%')\n",
    "#Confusion matrix\n",
    "skplt.metrics.plot_confusion_matrix(Y_train, SVM_Y_train_pred, title=\"SVM in train data\",\n",
    "                text_fontsize='large')\n",
    "plt.show()"
   ]
  },
  {
   "cell_type": "code",
   "execution_count": 26,
   "id": "2c3fbcd7",
   "metadata": {},
   "outputs": [
    {
     "name": "stdout",
     "output_type": "stream",
     "text": [
      "SVM Classifier Accuracy on Test data: 51.71 %\n"
     ]
    },
    {
     "data": {
      "image/png": "[encoded data removed]",
      "text/plain": [
       "<Figure size 432x288 with 2 Axes>"
      ]
     },
     "metadata": {
      "needs_background": "light"
     },
     "output_type": "display_data"
    }
   ],
   "source": [
    "#Predicting results on Test Data\n",
    "SVM_Y_test_pred = SVM.predict(X_test.values)\n",
    "SVM_test_acc = accuracy(Y_test.values,SVM_Y_test_pred)\n",
    "print('SVM Classifier Accuracy on Test data:',round(SVM_test_acc*100,2),'%')\n",
    "#Confusion matrix\n",
    "skplt.metrics.plot_confusion_matrix(Y_test, SVM_Y_test_pred, title=\"SVM in test data\",\n",
    "                text_fontsize='large')\n",
    "plt.show()"
   ]
  },
  {
   "cell_type": "markdown",
   "id": "6febf57a",
   "metadata": {},
   "source": [
    "**K-Nearest Neighbor**"
   ]
  },
  {
   "cell_type": "code",
   "execution_count": 27,
   "id": "24fa6649",
   "metadata": {},
   "outputs": [
    {
     "name": "stdout",
     "output_type": "stream",
     "text": [
      "Runtime in seconds: 0.0\n"
     ]
    }
   ],
   "source": [
    "#fitting the KNN model to the dataset\n",
    "start = time.time()\n",
    "KNN = KNNClassifier(K=5, metric='minkowski', p=2)\n",
    "KNN.fit(X_train.values, Y_train.values)\n",
    "end = time.time()\n",
    "total_time = end - start\n",
    "print(\"Runtime in seconds:\", round(total_time,2))"
   ]
  },
  {
   "cell_type": "code",
   "execution_count": 28,
   "id": "f79bfcff",
   "metadata": {},
   "outputs": [
    {
     "name": "stdout",
     "output_type": "stream",
     "text": [
      "KNN Classifier Accuracy on Train data: 49.18 %\n"
     ]
    },
    {
     "data": {
      "image/png": "[encoded data removed]",
      "text/plain": [
       "<Figure size 432x288 with 2 Axes>"
      ]
     },
     "metadata": {
      "needs_background": "light"
     },
     "output_type": "display_data"
    }
   ],
   "source": [
    "#Predicting results on Train Data\n",
    "KNN_Y_train_pred = KNN._generate_predictions(X_train.values)\n",
    "KNN_train_acc = accuracy(Y_train.values,KNN_Y_train_pred)\n",
    "print('KNN Classifier Accuracy on Train data:',round(KNN_train_acc*100,2),'%')\n",
    "#Confusion matrix\n",
    "skplt.metrics.plot_confusion_matrix(Y_train, KNN_Y_train_pred, title=\"KNN in train data\",\n",
    "                text_fontsize='large')\n",
    "plt.show()"
   ]
  },
  {
   "cell_type": "code",
   "execution_count": 29,
   "id": "c86f03ea",
   "metadata": {},
   "outputs": [
    {
     "name": "stdout",
     "output_type": "stream",
     "text": [
      "KNN Classifier Accuracy on Test data: 48.64 %\n"
     ]
    },
    {
     "data": {
      "image/png": "[encoded data removed]",
      "text/plain": [
       "<Figure size 432x288 with 2 Axes>"
      ]
     },
     "metadata": {
      "needs_background": "light"
     },
     "output_type": "display_data"
    }
   ],
   "source": [
    "#Predicting results on Test Data\n",
    "KNN_Y_test_pred = KNN._generate_predictions(X_test.values)\n",
    "KNN_test_acc = accuracy(Y_test.values,KNN_Y_test_pred)\n",
    "print('KNN Classifier Accuracy on Test data:',round(KNN_test_acc*100,2),'%')\n",
    "#Confusion matrix\n",
    "skplt.metrics.plot_confusion_matrix(Y_test, KNN_Y_test_pred, title=\"KNN in test data\",\n",
    "                text_fontsize='large')\n",
    "plt.show()"
   ]
  },
  {
   "cell_type": "markdown",
   "id": "0620b565",
   "metadata": {},
   "source": [
    "**Neural Netowrk**"
   ]
  },
  {
   "cell_type": "code",
   "execution_count": 8,
   "id": "9a9d3b4b",
   "metadata": {},
   "outputs": [
    {
     "name": "stdout",
     "output_type": "stream",
     "text": [
      "Runtime in seconds: 3.67\n"
     ]
    }
   ],
   "source": [
    "#model with SGDM optimizer\n",
    "start = time.time()\n",
    "nnsgdm = NeuralNetwork(layers=[13,10,1],activation_function=\"sigmoid\",optimization=\"SGDM\", learning_rate=0.0001, iterations=150)\n",
    "nnsgdm.fit(SCX_train, SCY_train.values.reshape(SCX_train.shape[0], 1)) #train the model\n",
    "end = time.time()\n",
    "total_time = end - start\n",
    "print(\"Runtime in seconds:\", round(total_time,2))\n"
   ]
  },
  {
   "cell_type": "code",
   "execution_count": 9,
   "id": "7d47077a",
   "metadata": {},
   "outputs": [
    {
     "data": {
      "image/png": "[encoded data removed]",
      "text/plain": [
       "<Figure size 432x288 with 1 Axes>"
      ]
     },
     "metadata": {
      "needs_background": "light"
     },
     "output_type": "display_data"
    }
   ],
   "source": [
    "nnsgdm.plot_loss()"
   ]
  },
  {
   "cell_type": "code",
   "execution_count": 10,
   "id": "79cd0f9b",
   "metadata": {},
   "outputs": [
    {
     "name": "stdout",
     "output_type": "stream",
     "text": [
      "Neural Network Classifier Accuracy on Train data: 100 %\n"
     ]
    },
    {
     "data": {
      "image/png": "[encoded data removed]",
      "text/plain": [
       "<Figure size 432x288 with 2 Axes>"
      ]
     },
     "metadata": {
      "needs_background": "light"
     },
     "output_type": "display_data"
    }
   ],
   "source": [
    "#Predicting results on Train Data\n",
    "NN_Y_train_pred = nnsgdm.predict(SCX_train)\n",
    "print(\"Neural Network Classifier Accuracy on Train data: {}\".format(nnsgdm.acc(SCY_train.values.reshape(SCX_train.shape[0], 1), NN_Y_train_pred)),'%')\n",
    "#Confusion matrix\n",
    "skplt.metrics.plot_confusion_matrix(SCY_train, NN_Y_train_pred, title=\"NN in train data\",\n",
    "                text_fontsize='large')\n",
    "plt.show()"
   ]
  },
  {
   "cell_type": "code",
   "execution_count": 12,
   "id": "df85b13f",
   "metadata": {},
   "outputs": [
    {
     "name": "stdout",
     "output_type": "stream",
     "text": [
      "Neural Network Classifier Accuracy on Test data: 100 %\n"
     ]
    },
    {
     "data": {
      "image/png": "[encoded data removed]",
      "text/plain": [
       "<Figure size 432x288 with 2 Axes>"
      ]
     },
     "metadata": {
      "needs_background": "light"
     },
     "output_type": "display_data"
    }
   ],
   "source": [
    "#Predicting results on Test Data\n",
    "NN_Y_test_pred = nnsgdm.predict(SCX_test)\n",
    "print(\"Neural Network Classifier Accuracy on Test data: {}\".format(nnsgdm.acc(SCY_test.values.reshape(SCX_test.shape[0], 1), NN_Y_test_pred)),'%')\n",
    "#Confusion matrix\n",
    "skplt.metrics.plot_confusion_matrix(SCY_test, NN_Y_test_pred, title=\"NN in test data\",\n",
    "                text_fontsize='large')\n",
    "plt.show()"
   ]
  },
  {
   "cell_type": "markdown",
   "id": "0e25ab5d",
   "metadata": {},
   "source": [
    "## Regression on Price\n",
    "**Preprocessing for Regression model**"
   ]
  },
  {
   "cell_type": "code",
   "execution_count": 13,
   "id": "711ea461",
   "metadata": {},
   "outputs": [],
   "source": [
    "#Defining dependent and independent variables\n",
    "RX = data.drop('price', axis=1)\n",
    "\n",
    "RY = data[\"price\"]\n",
    "#storing column names of X in names\n",
    "names = np.array(RX.columns)\n",
    "\n",
    "#Encoding the columns\n",
    "def label_transform(x):\n",
    "    le = LabelEncoder()\n",
    "    Encoded_le = le.fit_transform(x)\n",
    "    return Encoded_le\n",
    "\n",
    "for x in names:\n",
    "    RX[x] = label_transform(RX[x])\n",
    "    \n",
    "#Scaling data\n",
    "RSCX = StandardScaler().fit_transform(RX)\n",
    "\n",
    "#Splitting data into train and test sets\n",
    "RX_train, RX_test, RY_train, RY_test = train_test_split(RX, RY, test_size=0.2, random_state=41)\n",
    "\n",
    "#Splitting scaled data into train and test sets\n",
    "RSCX_train, RSCX_test, RSCY_train, RSCY_test = train_test_split(RSCX, RY, test_size=0.2, random_state=41)"
   ]
  },
  {
   "cell_type": "markdown",
   "id": "4f152ba7",
   "metadata": {},
   "source": [
    "**Lasso Regression**"
   ]
  },
  {
   "cell_type": "code",
   "execution_count": 14,
   "id": "0641ec5b",
   "metadata": {},
   "outputs": [
    {
     "name": "stdout",
     "output_type": "stream",
     "text": [
      "Runtime in seconds: 1.4\n"
     ]
    }
   ],
   "source": [
    "#Lasso Regression\n",
    "start = time.time()\n",
    "lasso = LassoRegression(alpha=0.1)\n",
    "lasso.fit(RSCX_train, RY_train) \n",
    "end = time.time()\n",
    "total_time = end - start\n",
    "print(\"Runtime in seconds:\", round(total_time,2))"
   ]
  },
  {
   "cell_type": "code",
   "execution_count": 15,
   "id": "95e716d9",
   "metadata": {},
   "outputs": [
    {
     "name": "stdout",
     "output_type": "stream",
     "text": [
      "Lasso regression on Train data : \n",
      "R²   : 78.44 %\n",
      "RMSE : 5.8279\n"
     ]
    }
   ],
   "source": [
    "#predicting for train data\n",
    "lasso_train_pred = lasso.predict(RSCX_train)\n",
    "lasso_train_r2 = r2score(RY_train.values,lasso_train_pred)\n",
    "lasso_train_rmse = mean_square(RY_train.values,lasso_train_pred)\n",
    "print(\"Lasso regression on Train data : \")\n",
    "print(\"R²   :\", round(lasso_train_r2*100,2),'%')\n",
    "print(\"RMSE :\", round(lasso_train_rmse,4))"
   ]
  },
  {
   "cell_type": "code",
   "execution_count": 16,
   "id": "43223bf5",
   "metadata": {},
   "outputs": [
    {
     "name": "stdout",
     "output_type": "stream",
     "text": [
      "Lasso regression on Test data : \n",
      "R²   : 78.52 %\n",
      "RMSE : 5.8081\n"
     ]
    }
   ],
   "source": [
    "#predicting for test data\n",
    "lasso_test_pred = lasso.predict(RSCX_test)\n",
    "lasso_test_r2 = r2score(RY_test.values,lasso_test_pred)\n",
    "lasso_test_rmse = mean_square(RY_test.values,lasso_test_pred)\n",
    "print(\"Lasso regression on Test data : \")\n",
    "print(\"R²   :\", round(lasso_test_r2*100,2),'%')\n",
    "print(\"RMSE :\", round(lasso_test_rmse,4))"
   ]
  },
  {
   "cell_type": "markdown",
   "id": "89736d34",
   "metadata": {},
   "source": [
    "**Decision Tree Regressor**"
   ]
  },
  {
   "cell_type": "code",
   "execution_count": 17,
   "id": "dd475ac4",
   "metadata": {},
   "outputs": [
    {
     "name": "stdout",
     "output_type": "stream",
     "text": [
      "Runtime in seconds: 19012.94\n"
     ]
    }
   ],
   "source": [
    "#Decision Tree classifier\n",
    "start = time.time()\n",
    "DTR = decisiontreeregressor()\n",
    "DTR.fit(RX_train,RY_train.values.reshape(-1,1))\n",
    "end = time.time()\n",
    "total_time = end - start\n",
    "print(\"Runtime in seconds:\", round(total_time,2))"
   ]
  },
  {
   "cell_type": "code",
   "execution_count": 18,
   "id": "45b27c6d",
   "metadata": {},
   "outputs": [
    {
     "name": "stdout",
     "output_type": "stream",
     "text": [
      "\u001b[1;3m Structure of decision tree \u001b[0m\n",
      "|- price 2 <= 0 :Variance Red 87.1245\n",
      " left-->|- page 1 (main category) <= 1 :Variance Red 19.1527\n",
      "  left-->|- page 2 (clothing model) <= 7 :Variance Red 8.0938\n",
      "    left-->33.1778\n",
      "    right-->39.6877\n",
      "  right-->|- page 2 (clothing model) <= 122 :Variance Red 1.827\n",
      "    left-->27.5496\n",
      "    right-->30.2955\n",
      " right-->|- page 2 (clothing model) <= 66 :Variance Red 59.5545\n",
      "  left-->|- page 2 (clothing model) <= 48 :Variance Red 11.0163\n",
      "    left-->64.1903\n",
      "    right-->57.1638\n",
      "  right-->|- page 1 (main category) <= 2 :Variance Red 15.4566\n",
      "    left-->49.6655\n",
      "    right-->41.7295\n"
     ]
    }
   ],
   "source": [
    "print('\\033[1;3m',\"Structure of decision tree\",'\\033[0m')\n",
    "DTR.print_tree()"
   ]
  },
  {
   "cell_type": "code",
   "execution_count": 19,
   "id": "2df740c6",
   "metadata": {},
   "outputs": [
    {
     "name": "stdout",
     "output_type": "stream",
     "text": [
      "Decision Tree Regressor on Train data:\n",
      "R²   :  86.63 %\n",
      "RMSE :  4.5897\n"
     ]
    }
   ],
   "source": [
    "#Predicting results on Train Data\n",
    "DTR_RY_train_pred = DTR.predict(RX_train.values)\n",
    "DTR_train_r2 = r2score(RY_train.values,DTR_RY_train_pred)\n",
    "DTR_train_rmse = mean_square(RY_train.values,DTR_RY_train_pred)\n",
    "print('Decision Tree Regressor on Train data:')\n",
    "print('R²   : ',round(DTR_train_r2*100,2),'%')\n",
    "print('RMSE : ',round(DTR_train_rmse,4))"
   ]
  },
  {
   "cell_type": "code",
   "execution_count": 20,
   "id": "b908b856",
   "metadata": {},
   "outputs": [
    {
     "name": "stdout",
     "output_type": "stream",
     "text": [
      "Decision Tree Regressor on Test data:\n",
      "R²   :  86.74 %\n",
      "RMSE :  4.5638\n"
     ]
    }
   ],
   "source": [
    "#Predicting results on Test Data\n",
    "DTR_RY_test_pred = DTR.predict(RX_test.values)\n",
    "DTR_test_r2 = r2score(RY_test.values,DTR_RY_test_pred)\n",
    "DTR_test_rmse = mean_square(RY_test.values,DTR_RY_test_pred)\n",
    "print('Decision Tree Regressor on Test data:')\n",
    "print('R²   : ',round(DTR_test_r2*100,2),'%')\n",
    "print('RMSE : ',round(DTR_test_rmse,4))"
   ]
  },
  {
   "cell_type": "markdown",
   "id": "70974210",
   "metadata": {},
   "source": [
    "**Random Forest Regression**"
   ]
  },
  {
   "cell_type": "code",
   "execution_count": 21,
   "id": "aa4bc68d",
   "metadata": {},
   "outputs": [
    {
     "name": "stdout",
     "output_type": "stream",
     "text": [
      "Runtime in seconds: 53496.19\n"
     ]
    }
   ],
   "source": [
    "start = time.time()\n",
    "#create a random forest with default values\n",
    "RFR = RandomForestRegressor()\n",
    "## train the ensemble\n",
    "RFR.fit(RX_train.values,RY_train.values)\n",
    "end = time.time()\n",
    "total_time = end - start\n",
    "print(\"Runtime in seconds:\", round(total_time,2))"
   ]
  },
  {
   "cell_type": "code",
   "execution_count": 22,
   "id": "2d8dd867",
   "metadata": {},
   "outputs": [
    {
     "name": "stdout",
     "output_type": "stream",
     "text": [
      "Random Forest Regressor on Train data:\n",
      "R²   :  99.82 %\n",
      "RMSE :  0.526\n"
     ]
    }
   ],
   "source": [
    "#Predicting results on Train Data\n",
    "RFR_RY_train_pred = RFR.predict(RX_train.values)\n",
    "RFR_train_r2 = r2score(RY_train.values,RFR_RY_train_pred)\n",
    "RFR_train_rmse = mean_square(RY_train.values,RFR_RY_train_pred)\n",
    "print('Random Forest Regressor on Train data:')\n",
    "print('R²   : ',round(RFR_train_r2*100,2),'%')\n",
    "print('RMSE : ',round(RFR_train_rmse,4))"
   ]
  },
  {
   "cell_type": "code",
   "execution_count": 23,
   "id": "5ec86730",
   "metadata": {},
   "outputs": [
    {
     "name": "stdout",
     "output_type": "stream",
     "text": [
      "Random Forest Regressor on Test data:\n",
      "R²   :  99.81 %\n",
      "RMSE :  0.5525\n"
     ]
    }
   ],
   "source": [
    "#Predicting results on Test Data\n",
    "RFR_RY_test_pred = RFR.predict(RX_test.values)\n",
    "RFR_test_r2 = r2score(RY_test.values,RFR_RY_test_pred)\n",
    "RFR_test_rmse = mean_square(RY_test.values,RFR_RY_test_pred)\n",
    "print('Random Forest Regressor on Test data:')\n",
    "print('R²   : ',round(RFR_test_r2*100,2),'%')\n",
    "print('RMSE : ',round(RFR_test_rmse,4))"
   ]
  },
  {
   "cell_type": "markdown",
   "id": "8e8525a4",
   "metadata": {},
   "source": [
    "**Gradient Boost Regression**"
   ]
  },
  {
   "cell_type": "code",
   "execution_count": 24,
   "id": "c7ccf3aa",
   "metadata": {},
   "outputs": [
    {
     "name": "stdout",
     "output_type": "stream",
     "text": [
      "Runtime in seconds: 7529.78\n"
     ]
    }
   ],
   "source": [
    "start = time.time()\n",
    "GBR = GradientBoostTreeRegressor()\n",
    "#fit the model\n",
    "GBR.fit(RX_train.values,RY_train.values)\n",
    "end = time.time()\n",
    "total_time = end - start\n",
    "print(\"Runtime in seconds:\", round(total_time,2))"
   ]
  },
  {
   "cell_type": "code",
   "execution_count": 25,
   "id": "4b8fbcb1",
   "metadata": {},
   "outputs": [
    {
     "name": "stdout",
     "output_type": "stream",
     "text": [
      "GradientBoost Regressor on Train data:\n",
      "R²   :  -95.31 %\n",
      "RMSE :  17.5418\n"
     ]
    }
   ],
   "source": [
    "#Predicting results on Train Data\n",
    "GBR_RY_train_pred = GBR.predict(RX_train.values)\n",
    "GBR_train_r2 = r2score(RY_train.values,GBR_RY_train_pred)\n",
    "GBR_train_rmse = mean_square(RY_train.values,GBR_RY_train_pred)\n",
    "print('GradientBoost Regressor on Train data:')\n",
    "print('R²   : ',round(GBR_train_r2*100,2),'%')\n",
    "print('RMSE : ',round(GBR_train_rmse,4))"
   ]
  },
  {
   "cell_type": "code",
   "execution_count": 26,
   "id": "f8cac3f3",
   "metadata": {},
   "outputs": [
    {
     "name": "stdout",
     "output_type": "stream",
     "text": [
      "GradientBoost Regressor on Test data:\n",
      "R²   :  -96.63 %\n",
      "RMSE :  17.5733\n"
     ]
    }
   ],
   "source": [
    "#Predicting results on Test Data\n",
    "GBR_RY_test_pred = GBR.predict(RX_test.values)\n",
    "GBR_test_r2 = r2score(RY_test.values,GBR_RY_test_pred)\n",
    "GBR_test_rmse = mean_square(RY_test.values,GBR_RY_test_pred)\n",
    "print('GradientBoost Regressor on Test data:')\n",
    "print('R²   : ',round(GBR_test_r2*100,2),'%')\n",
    "print('RMSE : ',round(GBR_test_rmse,4))"
   ]
  },
  {
   "cell_type": "code",
   "execution_count": null,
   "id": "84f79155",
   "metadata": {},
   "outputs": [],
   "source": []
  }
 ],
 "metadata": {
  "kernelspec": {
   "display_name": "Python 3 (ipykernel)",
   "language": "python",
   "name": "python3"
  },
  "language_info": {
   "codemirror_mode": {
    "name": "ipython",
    "version": 3
   },
   "file_extension": ".py",
   "mimetype": "text/x-python",
   "name": "python",
   "nbconvert_exporter": "python",
   "pygments_lexer": "ipython3",
   "version": "3.9.12"
  }
 },
 "nbformat": 4,
 "nbformat_minor": 5
}
